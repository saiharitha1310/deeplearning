{
  "nbformat": 4,
  "nbformat_minor": 0,
  "metadata": {
    "colab": {
      "provenance": [],
      "authorship_tag": "ABX9TyNBKtp3NRlchMnjsTJ/fSi0",
      "include_colab_link": true
    },
    "kernelspec": {
      "name": "python3",
      "display_name": "Python 3"
    },
    "language_info": {
      "name": "python"
    }
  },
  "cells": [
    {
      "cell_type": "markdown",
      "metadata": {
        "id": "view-in-github",
        "colab_type": "text"
      },
      "source": [
        "<a href=\"https://colab.research.google.com/github/saiharitha1310/deeplearning/blob/main/dp_4.ipynb\" target=\"_parent\"><img src=\"https://colab.research.google.com/assets/colab-badge.svg\" alt=\"Open In Colab\"/></a>"
      ]
    },
    {
      "cell_type": "code",
      "execution_count": null,
      "metadata": {
        "id": "sVxBluQ74XO_"
      },
      "outputs": [],
      "source": [
        "import numpy as np\n",
        "def sigmoid(x):\n",
        " return 1 / (1 + np.exp(-x))\n",
        "def sigmoid_derivative(x):\n",
        " return x * (1 - x)\n",
        "input_size=2\n",
        "hidden_size=3\n",
        "output_size=1\n",
        "learning_rate=0.1\n",
        "weights_input_hidden = np.random.rand(input_size, hidden_size)\n",
        "biases_hidden = np.zeros((1, hidden_size))\n",
        "weights_hidden_output = np.random.rand(hidden_size, output_size)\n",
        "biases_output = np.zeros((1, output_size))\n"
      ]
    },
    {
      "cell_type": "code",
      "source": [
        "X = np.array([[0, 0],[0, 1],[1, 0],[1, 1]])\n",
        "y = np.array([[0], [1],[1],[0]])\n",
        "epochs = 10000\n",
        "for epoch in range(epochs):\n",
        "  hidden_layer_input = np.dot(X, weights_input_hidden) + biases_hidden\n",
        "  hidden_layer_output = sigmoid(hidden_layer_input)\n",
        "  output_layer_input = np.dot(hidden_layer_output, weights_hidden_output) + biases_output\n",
        "  predicted_output = sigmoid(output_layer_input)\n",
        "  loss = 0.5 * np.mean((y - predicted_output) ** 2)\n",
        "  output_error = y - predicted_output\n",
        "  output_delta = output_error * sigmoid_derivative(predicted_output)\n",
        "  hidden_layer_error = output_delta.dot(weights_hidden_output.T)\n",
        "  hidden_layer_delta = hidden_layer_error * sigmoid_derivative(hidden_layer_output)\n",
        "  weights_hidden_output += hidden_layer_output.T.dot(output_delta) * learning_rate\n",
        "  biases_output += np.sum(output_delta, axis=0, keepdims=True) * learning_rate\n",
        "  weights_input_hidden += X.T.dot(hidden_layer_delta) * learning_rate\n",
        "  biases_hidden += np.sum(hidden_layer_delta, axis=0, keepdims=True) * learning_rate\n",
        "  if epoch % 1000 == 0:\n",
        "    print(f\"Epoch {epoch}, Loss: {loss}\")\n",
        "test_input = np.array([[0, 0],[0, 1],[1, 0],[1, 1]])\n",
        "hidden_layer_input_test = np.dot(test_input, weights_input_hidden) + biases_hidden\n",
        "hidden_layer_output_test = sigmoid(hidden_layer_input_test)\n",
        "output_layer_input_test = np.dot(hidden_layer_output_test, weights_hidden_output)+biases_output\n",
        "predicted_output_test = sigmoid(output_layer_input_test)\n",
        "print(\"\\nPredicted Output after Training:\")\n",
        "print(predicted_output_test)\n",
        "\n",
        "\n"
      ],
      "metadata": {
        "colab": {
          "base_uri": "https://localhost:8080/"
        },
        "id": "IPaCsU0E6Iyu",
        "outputId": "5e22d0cf-66da-4e63-ca7e-5e10213f5d27"
      },
      "execution_count": null,
      "outputs": [
        {
          "output_type": "stream",
          "name": "stdout",
          "text": [
            "Epoch 0, Loss: 0.16590648276044587\n",
            "Epoch 1000, Loss: 0.12492599703381435\n",
            "Epoch 2000, Loss: 0.12445744972940517\n",
            "Epoch 3000, Loss: 0.11979987197562579\n",
            "Epoch 4000, Loss: 0.09938250359387257\n",
            "Epoch 5000, Loss: 0.06877195586012565\n",
            "Epoch 6000, Loss: 0.019589000994830883\n",
            "Epoch 7000, Loss: 0.007343917768327235\n",
            "Epoch 8000, Loss: 0.004114828256272578\n",
            "Epoch 9000, Loss: 0.0027713005717151396\n",
            "\n",
            "Predicted Output after Training:\n",
            "[[0.06697347]\n",
            " [0.93801975]\n",
            " [0.93885053]\n",
            " [0.06642447]]\n"
          ]
        }
      ]
    }
  ]
}