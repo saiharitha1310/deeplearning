{
  "nbformat": 4,
  "nbformat_minor": 0,
  "metadata": {
    "colab": {
      "provenance": [],
      "mount_file_id": "1W6_Q29HVGr2Cs2IPAcpHjiVS7MHVueW8",
      "authorship_tag": "ABX9TyOeYLILxmT7wb6h54GdxLQO",
      "include_colab_link": true
    },
    "kernelspec": {
      "name": "python3",
      "display_name": "Python 3"
    },
    "language_info": {
      "name": "python"
    }
  },
  "cells": [
    {
      "cell_type": "markdown",
      "metadata": {
        "id": "view-in-github",
        "colab_type": "text"
      },
      "source": [
        "<a href=\"https://colab.research.google.com/github/saiharitha1310/deeplearning/blob/main/DP_5.ipynb\" target=\"_parent\"><img src=\"https://colab.research.google.com/assets/colab-badge.svg\" alt=\"Open In Colab\"/></a>"
      ]
    },
    {
      "cell_type": "code",
      "execution_count": null,
      "metadata": {
        "colab": {
          "base_uri": "https://localhost:8080/"
        },
        "id": "tDsPJKUA4mhL",
        "outputId": "2e5c6978-e616-4711-f525-473defbd6b03"
      },
      "outputs": [
        {
          "output_type": "stream",
          "name": "stdout",
          "text": [
            "Epoch 1/3\n",
            "313/313 [==============================] - 78s 241ms/step - loss: 0.4462 - accuracy: 0.7800 - val_loss: 0.3122 - val_accuracy: 0.8700\n",
            "Epoch 2/3\n",
            "313/313 [==============================] - 75s 240ms/step - loss: 0.2375 - accuracy: 0.9086 - val_loss: 0.3025 - val_accuracy: 0.8792\n",
            "Epoch 3/3\n",
            "313/313 [==============================] - 74s 236ms/step - loss: 0.1578 - accuracy: 0.9421 - val_loss: 0.3649 - val_accuracy: 0.8650\n",
            "782/782 [==============================] - 23s 29ms/step - loss: 0.3812 - accuracy: 0.8599\n",
            "GRU Model - Test Loss: 0.3812, Test Accuracy: 0.8599\n",
            "Epoch 1/3\n",
            "313/313 [==============================] - 89s 275ms/step - loss: 0.3990 - accuracy: 0.8140 - val_loss: 0.3253 - val_accuracy: 0.8598\n",
            "Epoch 2/3\n",
            "313/313 [==============================] - 82s 263ms/step - loss: 0.2265 - accuracy: 0.9131 - val_loss: 0.3101 - val_accuracy: 0.8664\n",
            "Epoch 3/3\n",
            "313/313 [==============================] - 81s 260ms/step - loss: 0.1483 - accuracy: 0.9455 - val_loss: 0.3828 - val_accuracy: 0.8538\n",
            "782/782 [==============================] - 27s 34ms/step - loss: 0.4000 - accuracy: 0.8512\n",
            "LSTM Model - Test Loss: 0.4000, Test Accuracy: 0.8512\n"
          ]
        }
      ],
      "source": [
        "import numpy as np\n",
        "from tensorflow.keras.datasets import imdb\n",
        "from tensorflow.keras.models import Sequential\n",
        "from tensorflow.keras.layers import Embedding, GRU, LSTM, Dense\n",
        "from tensorflow.keras.preprocessing.sequence import pad_sequences\n",
        "from tensorflow.keras.utils import to_categorical\n",
        "from sklearn.model_selection import train_test_split\n",
        "vocab_size = 10000\n",
        "max_len = 200\n",
        "(X_train, y_train), (X_test, y_test) = imdb.load_data(num_words=vocab_size)\n",
        "X_train = pad_sequences(X_train, maxlen=max_len)\n",
        "X_test = pad_sequences(X_test, maxlen=max_len)\n",
        "y_train = to_categorical(y_train, num_classes=2)\n",
        "y_test = to_categorical(y_test, num_classes=2)\n",
        "X_train, X_val, y_train, y_val = train_test_split(X_train, y_train, test_size=0.2,random_state=42)\n",
        "model_gru = Sequential()\n",
        "model_gru.add(Embedding(vocab_size, 128, input_length=max_len))\n",
        "model_gru.add(GRU(64))\n",
        "model_gru.add(Dense(2, activation='softmax'))\n",
        "model_gru.compile(optimizer='adam', loss='categorical_crossentropy', metrics=['accuracy'])\n",
        "model_gru.fit(X_train, y_train, validation_data=(X_val, y_val), epochs=3, batch_size=64)\n",
        "gru_loss, gru_accuracy = model_gru.evaluate(X_test, y_test)\n",
        "print(f\"GRU Model - Test Loss: {gru_loss:.4f}, Test Accuracy: {gru_accuracy:.4f}\")\n",
        "model_lstm = Sequential()\n",
        "model_lstm.add(Embedding(vocab_size, 128, input_length=max_len))\n",
        "model_lstm.add(LSTM(64))\n",
        "model_lstm.add(Dense(2, activation='softmax'))\n",
        "model_lstm.compile(optimizer='adam', loss='categorical_crossentropy', metrics=['accuracy'])\n",
        "model_lstm.fit(X_train, y_train, validation_data=(X_val, y_val), epochs=3, batch_size=64)\n",
        "lstm_loss, lstm_accuracy = model_lstm.evaluate(X_test, y_test)\n",
        "print(f\"LSTM Model - Test Loss: {lstm_loss:.4f}, Test Accuracy: {lstm_accuracy:.4f}\")\n"
      ]
    },
    {
      "cell_type": "code",
      "source": [],
      "metadata": {
        "id": "GavLqojE5n2j"
      },
      "execution_count": null,
      "outputs": []
    },
    {
      "cell_type": "markdown",
      "source": [],
      "metadata": {
        "id": "BYiaKQn-51RH"
      }
    }
  ]
}